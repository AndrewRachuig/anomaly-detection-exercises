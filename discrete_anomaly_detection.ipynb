{
 "cells": [
  {
   "cell_type": "code",
   "execution_count": 1,
   "id": "8a5a2cf7",
   "metadata": {},
   "outputs": [],
   "source": [
    "import matplotlib.pyplot as plt\n",
    "import numpy as np\n",
    "import pandas as pd\n",
    "import seaborn as sns\n",
    "from sklearn import metrics\n",
    "import env"
   ]
  },
  {
   "cell_type": "code",
   "execution_count": 2,
   "id": "f2e016f9",
   "metadata": {},
   "outputs": [
    {
     "data": {
      "text/html": [
       "<div>\n",
       "<style scoped>\n",
       "    .dataframe tbody tr th:only-of-type {\n",
       "        vertical-align: middle;\n",
       "    }\n",
       "\n",
       "    .dataframe tbody tr th {\n",
       "        vertical-align: top;\n",
       "    }\n",
       "\n",
       "    .dataframe thead th {\n",
       "        text-align: right;\n",
       "    }\n",
       "</style>\n",
       "<table border=\"1\" class=\"dataframe\">\n",
       "  <thead>\n",
       "    <tr style=\"text-align: right;\">\n",
       "      <th></th>\n",
       "      <th>entry</th>\n",
       "    </tr>\n",
       "  </thead>\n",
       "  <tbody>\n",
       "    <tr>\n",
       "      <th>0</th>\n",
       "      <td>97.105.19.58 - - [16/Apr/2019:19:34:42 +0000] ...</td>\n",
       "    </tr>\n",
       "    <tr>\n",
       "      <th>1</th>\n",
       "      <td>97.105.19.58 - - [16/Apr/2019:19:34:42 +0000] ...</td>\n",
       "    </tr>\n",
       "    <tr>\n",
       "      <th>2</th>\n",
       "      <td>97.105.19.58 - - [16/Apr/2019:19:34:44 +0000] ...</td>\n",
       "    </tr>\n",
       "    <tr>\n",
       "      <th>3</th>\n",
       "      <td>97.105.19.58 - - [16/Apr/2019:19:34:46 +0000] ...</td>\n",
       "    </tr>\n",
       "    <tr>\n",
       "      <th>4</th>\n",
       "      <td>97.105.19.58 - - [16/Apr/2019:19:34:48 +0000] ...</td>\n",
       "    </tr>\n",
       "  </tbody>\n",
       "</table>\n",
       "</div>"
      ],
      "text/plain": [
       "                                               entry\n",
       "0  97.105.19.58 - - [16/Apr/2019:19:34:42 +0000] ...\n",
       "1  97.105.19.58 - - [16/Apr/2019:19:34:42 +0000] ...\n",
       "2  97.105.19.58 - - [16/Apr/2019:19:34:44 +0000] ...\n",
       "3  97.105.19.58 - - [16/Apr/2019:19:34:46 +0000] ...\n",
       "4  97.105.19.58 - - [16/Apr/2019:19:34:48 +0000] ..."
      ]
     },
     "execution_count": 2,
     "metadata": {},
     "output_type": "execute_result"
    }
   ],
   "source": [
    "url = f'mysql+pymysql://{env.user}:{env.password}@{env.host}/logs'\n",
    "df = pd.read_sql('SELECT * FROM api_access', url)\n",
    "df.head()"
   ]
  },
  {
   "cell_type": "code",
   "execution_count": 5,
   "id": "18261c90",
   "metadata": {},
   "outputs": [],
   "source": [
    "# function to deal with parsing one entry in our log data\n",
    "def parse_log_entry(entry):\n",
    "    parts = entry.split()\n",
    "    output = {}\n",
    "    output['ip'] = parts[0]\n",
    "    output['timestamp'] = parts[3][1:].replace(':', ' ', 1)\n",
    "    output['request_method'] = parts[5][1:]\n",
    "    output['request_path'] = parts[6]\n",
    "    output['http_version'] = parts[7][:-1]\n",
    "    output['status_code'] = parts[8]\n",
    "    output['size'] = int(parts[9])\n",
    "    output['user_agent'] = ' '.join(parts[11:]).replace('\"', '')\n",
    "    return pd.Series(output)"
   ]
  },
  {
   "cell_type": "code",
   "execution_count": 6,
   "id": "947d16c6",
   "metadata": {},
   "outputs": [
    {
     "data": {
      "text/html": [
       "<div>\n",
       "<style scoped>\n",
       "    .dataframe tbody tr th:only-of-type {\n",
       "        vertical-align: middle;\n",
       "    }\n",
       "\n",
       "    .dataframe tbody tr th {\n",
       "        vertical-align: top;\n",
       "    }\n",
       "\n",
       "    .dataframe thead th {\n",
       "        text-align: right;\n",
       "    }\n",
       "</style>\n",
       "<table border=\"1\" class=\"dataframe\">\n",
       "  <thead>\n",
       "    <tr style=\"text-align: right;\">\n",
       "      <th></th>\n",
       "      <th>ip</th>\n",
       "      <th>timestamp</th>\n",
       "      <th>request_method</th>\n",
       "      <th>request_path</th>\n",
       "      <th>http_version</th>\n",
       "      <th>status_code</th>\n",
       "      <th>size</th>\n",
       "      <th>user_agent</th>\n",
       "    </tr>\n",
       "  </thead>\n",
       "  <tbody>\n",
       "    <tr>\n",
       "      <th>0</th>\n",
       "      <td>97.105.19.58</td>\n",
       "      <td>16/Apr/2019 19:34:42</td>\n",
       "      <td>GET</td>\n",
       "      <td>/api/v1/sales?page=81</td>\n",
       "      <td>HTTP/1.1</td>\n",
       "      <td>200</td>\n",
       "      <td>512495</td>\n",
       "      <td>python-requests/2.21.0</td>\n",
       "    </tr>\n",
       "    <tr>\n",
       "      <th>1</th>\n",
       "      <td>97.105.19.58</td>\n",
       "      <td>16/Apr/2019 19:34:42</td>\n",
       "      <td>GET</td>\n",
       "      <td>/api/v1/items</td>\n",
       "      <td>HTTP/1.1</td>\n",
       "      <td>200</td>\n",
       "      <td>3561</td>\n",
       "      <td>python-requests/2.21.0</td>\n",
       "    </tr>\n",
       "    <tr>\n",
       "      <th>2</th>\n",
       "      <td>97.105.19.58</td>\n",
       "      <td>16/Apr/2019 19:34:44</td>\n",
       "      <td>GET</td>\n",
       "      <td>/api/v1/sales?page=82</td>\n",
       "      <td>HTTP/1.1</td>\n",
       "      <td>200</td>\n",
       "      <td>510103</td>\n",
       "      <td>python-requests/2.21.0</td>\n",
       "    </tr>\n",
       "    <tr>\n",
       "      <th>3</th>\n",
       "      <td>97.105.19.58</td>\n",
       "      <td>16/Apr/2019 19:34:46</td>\n",
       "      <td>GET</td>\n",
       "      <td>/api/v1/sales?page=83</td>\n",
       "      <td>HTTP/1.1</td>\n",
       "      <td>200</td>\n",
       "      <td>510003</td>\n",
       "      <td>python-requests/2.21.0</td>\n",
       "    </tr>\n",
       "    <tr>\n",
       "      <th>4</th>\n",
       "      <td>97.105.19.58</td>\n",
       "      <td>16/Apr/2019 19:34:48</td>\n",
       "      <td>GET</td>\n",
       "      <td>/api/v1/sales?page=84</td>\n",
       "      <td>HTTP/1.1</td>\n",
       "      <td>200</td>\n",
       "      <td>511963</td>\n",
       "      <td>python-requests/2.21.0</td>\n",
       "    </tr>\n",
       "  </tbody>\n",
       "</table>\n",
       "</div>"
      ],
      "text/plain": [
       "             ip             timestamp request_method           request_path  \\\n",
       "0  97.105.19.58  16/Apr/2019 19:34:42            GET  /api/v1/sales?page=81   \n",
       "1  97.105.19.58  16/Apr/2019 19:34:42            GET          /api/v1/items   \n",
       "2  97.105.19.58  16/Apr/2019 19:34:44            GET  /api/v1/sales?page=82   \n",
       "3  97.105.19.58  16/Apr/2019 19:34:46            GET  /api/v1/sales?page=83   \n",
       "4  97.105.19.58  16/Apr/2019 19:34:48            GET  /api/v1/sales?page=84   \n",
       "\n",
       "  http_version status_code    size              user_agent  \n",
       "0     HTTP/1.1         200  512495  python-requests/2.21.0  \n",
       "1     HTTP/1.1         200    3561  python-requests/2.21.0  \n",
       "2     HTTP/1.1         200  510103  python-requests/2.21.0  \n",
       "3     HTTP/1.1         200  510003  python-requests/2.21.0  \n",
       "4     HTTP/1.1         200  511963  python-requests/2.21.0  "
      ]
     },
     "execution_count": 6,
     "metadata": {},
     "output_type": "execute_result"
    }
   ],
   "source": [
    "df = df.entry.apply(parse_log_entry)\n",
    "df.head()"
   ]
  },
  {
   "cell_type": "code",
   "execution_count": 23,
   "id": "f58983a6",
   "metadata": {},
   "outputs": [
    {
     "name": "stdout",
     "output_type": "stream",
     "text": [
      "<class 'pandas.core.frame.DataFrame'>\n",
      "RangeIndex: 13974 entries, 0 to 13973\n",
      "Data columns (total 8 columns):\n",
      " #   Column          Non-Null Count  Dtype \n",
      "---  ------          --------------  ----- \n",
      " 0   ip              13974 non-null  object\n",
      " 1   timestamp       13974 non-null  object\n",
      " 2   request_method  13974 non-null  object\n",
      " 3   request_path    13974 non-null  object\n",
      " 4   http_version    13974 non-null  object\n",
      " 5   status_code     13974 non-null  object\n",
      " 6   size            13974 non-null  int64 \n",
      " 7   user_agent      13974 non-null  object\n",
      "dtypes: int64(1), object(7)\n",
      "memory usage: 873.5+ KB\n"
     ]
    }
   ],
   "source": [
    "df.info()"
   ]
  },
  {
   "cell_type": "markdown",
   "id": "4ae4f0a5",
   "metadata": {},
   "source": [
    "Setting the timestamp as datetime index"
   ]
  },
  {
   "cell_type": "code",
   "execution_count": 106,
   "id": "467a9de8",
   "metadata": {},
   "outputs": [],
   "source": [
    "#converting to a datetime to analyze dates better\n",
    "df['timestamp'] = pd.to_datetime(df.timestamp)"
   ]
  },
  {
   "cell_type": "code",
   "execution_count": 110,
   "id": "1245937c",
   "metadata": {},
   "outputs": [],
   "source": [
    "#setting index to datetime\n",
    "df = df.set_index('timestamp').sort_index()"
   ]
  },
  {
   "cell_type": "code",
   "execution_count": 111,
   "id": "a8647a6b",
   "metadata": {},
   "outputs": [
    {
     "data": {
      "text/html": [
       "<div>\n",
       "<style scoped>\n",
       "    .dataframe tbody tr th:only-of-type {\n",
       "        vertical-align: middle;\n",
       "    }\n",
       "\n",
       "    .dataframe tbody tr th {\n",
       "        vertical-align: top;\n",
       "    }\n",
       "\n",
       "    .dataframe thead th {\n",
       "        text-align: right;\n",
       "    }\n",
       "</style>\n",
       "<table border=\"1\" class=\"dataframe\">\n",
       "  <thead>\n",
       "    <tr style=\"text-align: right;\">\n",
       "      <th></th>\n",
       "      <th>ip</th>\n",
       "      <th>request_method</th>\n",
       "      <th>request_path</th>\n",
       "      <th>http_version</th>\n",
       "      <th>status_code</th>\n",
       "      <th>size</th>\n",
       "      <th>user_agent</th>\n",
       "    </tr>\n",
       "    <tr>\n",
       "      <th>timestamp</th>\n",
       "      <th></th>\n",
       "      <th></th>\n",
       "      <th></th>\n",
       "      <th></th>\n",
       "      <th></th>\n",
       "      <th></th>\n",
       "      <th></th>\n",
       "    </tr>\n",
       "  </thead>\n",
       "  <tbody>\n",
       "    <tr>\n",
       "      <th>2019-04-16 19:34:42</th>\n",
       "      <td>97.105.19.58</td>\n",
       "      <td>GET</td>\n",
       "      <td>/api/v1/sales?page=81</td>\n",
       "      <td>HTTP/1.1</td>\n",
       "      <td>200</td>\n",
       "      <td>512495</td>\n",
       "      <td>python-requests/2.21.0</td>\n",
       "    </tr>\n",
       "    <tr>\n",
       "      <th>2019-04-16 19:34:42</th>\n",
       "      <td>97.105.19.58</td>\n",
       "      <td>GET</td>\n",
       "      <td>/api/v1/items</td>\n",
       "      <td>HTTP/1.1</td>\n",
       "      <td>200</td>\n",
       "      <td>3561</td>\n",
       "      <td>python-requests/2.21.0</td>\n",
       "    </tr>\n",
       "    <tr>\n",
       "      <th>2019-04-16 19:34:44</th>\n",
       "      <td>97.105.19.58</td>\n",
       "      <td>GET</td>\n",
       "      <td>/api/v1/sales?page=82</td>\n",
       "      <td>HTTP/1.1</td>\n",
       "      <td>200</td>\n",
       "      <td>510103</td>\n",
       "      <td>python-requests/2.21.0</td>\n",
       "    </tr>\n",
       "    <tr>\n",
       "      <th>2019-04-16 19:34:46</th>\n",
       "      <td>97.105.19.58</td>\n",
       "      <td>GET</td>\n",
       "      <td>/api/v1/sales?page=83</td>\n",
       "      <td>HTTP/1.1</td>\n",
       "      <td>200</td>\n",
       "      <td>510003</td>\n",
       "      <td>python-requests/2.21.0</td>\n",
       "    </tr>\n",
       "    <tr>\n",
       "      <th>2019-04-16 19:34:48</th>\n",
       "      <td>97.105.19.58</td>\n",
       "      <td>GET</td>\n",
       "      <td>/api/v1/sales?page=84</td>\n",
       "      <td>HTTP/1.1</td>\n",
       "      <td>200</td>\n",
       "      <td>511963</td>\n",
       "      <td>python-requests/2.21.0</td>\n",
       "    </tr>\n",
       "  </tbody>\n",
       "</table>\n",
       "</div>"
      ],
      "text/plain": [
       "                               ip request_method           request_path  \\\n",
       "timestamp                                                                 \n",
       "2019-04-16 19:34:42  97.105.19.58            GET  /api/v1/sales?page=81   \n",
       "2019-04-16 19:34:42  97.105.19.58            GET          /api/v1/items   \n",
       "2019-04-16 19:34:44  97.105.19.58            GET  /api/v1/sales?page=82   \n",
       "2019-04-16 19:34:46  97.105.19.58            GET  /api/v1/sales?page=83   \n",
       "2019-04-16 19:34:48  97.105.19.58            GET  /api/v1/sales?page=84   \n",
       "\n",
       "                    http_version status_code    size              user_agent  \n",
       "timestamp                                                                     \n",
       "2019-04-16 19:34:42     HTTP/1.1         200  512495  python-requests/2.21.0  \n",
       "2019-04-16 19:34:42     HTTP/1.1         200    3561  python-requests/2.21.0  \n",
       "2019-04-16 19:34:44     HTTP/1.1         200  510103  python-requests/2.21.0  \n",
       "2019-04-16 19:34:46     HTTP/1.1         200  510003  python-requests/2.21.0  \n",
       "2019-04-16 19:34:48     HTTP/1.1         200  511963  python-requests/2.21.0  "
      ]
     },
     "execution_count": 111,
     "metadata": {},
     "output_type": "execute_result"
    }
   ],
   "source": [
    "df.head()"
   ]
  },
  {
   "cell_type": "markdown",
   "id": "1199d105",
   "metadata": {},
   "source": [
    "## Exploring anomalies in the ip column"
   ]
  },
  {
   "cell_type": "code",
   "execution_count": 78,
   "id": "e07da4ec",
   "metadata": {},
   "outputs": [
    {
     "data": {
      "text/plain": [
       "97.105.19.58      11998\n",
       "173.173.113.51     1059\n",
       "72.181.113.170      613\n",
       "72.181.105.81       246\n",
       "24.26.242.9          21\n",
       "68.201.219.223       21\n",
       "35.175.171.137        2\n",
       "70.121.214.34         2\n",
       "52.87.230.102         2\n",
       "54.145.52.184         1\n",
       "52.90.165.200         1\n",
       "45.23.250.16          1\n",
       "52.91.30.150          1\n",
       "35.174.209.2          1\n",
       "3.92.201.136          1\n",
       "34.207.64.242         1\n",
       "54.172.14.223         1\n",
       "3.88.129.158          1\n",
       "34.229.70.250         1\n",
       "Name: ip, dtype: int64"
      ]
     },
     "execution_count": 78,
     "metadata": {},
     "output_type": "execute_result"
    }
   ],
   "source": [
    "df.ip.value_counts()"
   ]
  },
  {
   "cell_type": "code",
   "execution_count": 80,
   "id": "5c5c4909",
   "metadata": {},
   "outputs": [
    {
     "data": {
      "text/plain": [
       "<AxesSubplot:>"
      ]
     },
     "execution_count": 80,
     "metadata": {},
     "output_type": "execute_result"
    },
    {
     "data": {
      "image/png": "[encoded data removed]",
      "text/plain": [
       "<Figure size 432x288 with 1 Axes>"
      ]
     },
     "metadata": {
      "needs_background": "light"
     },
     "output_type": "display_data"
    }
   ],
   "source": [
    "df.ip.value_counts().plot(kind = 'bar')"
   ]
  },
  {
   "cell_type": "code",
   "execution_count": 60,
   "id": "ebe22466",
   "metadata": {},
   "outputs": [
    {
     "data": {
      "text/plain": [
       "0.8585945327035924"
      ]
     },
     "execution_count": 60,
     "metadata": {},
     "output_type": "execute_result"
    }
   ],
   "source": [
    "df[df.ip == '97.105.19.58'].shape[0] / df.shape[0]"
   ]
  },
  {
   "cell_type": "markdown",
   "id": "b35fe4d0",
   "metadata": {},
   "source": [
    "The top 4 ip address had way more GET requests than all other users, in fact the top ip address had an order of magnitude more GET requests than then next ip address and in fact was responsible for 86% of all logs. I will investigate the top 2 ip addresses.\n",
    "\n",
    "**Most common ip address: 97.105.19.58**"
   ]
  },
  {
   "cell_type": "code",
   "execution_count": 15,
   "id": "3e7ae5ef",
   "metadata": {},
   "outputs": [
    {
     "data": {
      "text/plain": [
       "python-requests/2.21.0                                                                                                       10058\n",
       "python-requests/2.20.1                                                                                                        1911\n",
       "Mozilla/5.0 (Macintosh; Intel Mac OS X 10_14_4) AppleWebKit/537.36 (KHTML, like Gecko) Chrome/73.0.3683.103 Safari/537.36       26\n",
       "Mozilla/5.0 (Macintosh; Intel Mac OS X 10_14_3) AppleWebKit/537.36 (KHTML, like Gecko) Chrome/73.0.3683.103 Safari/537.36        2\n",
       "Python-urllib/3.7                                                                                                                1\n",
       "Name: user_agent, dtype: int64"
      ]
     },
     "execution_count": 15,
     "metadata": {},
     "output_type": "execute_result"
    }
   ],
   "source": [
    "df[df.ip == '97.105.19.58'].user_agent.value_counts()"
   ]
  },
  {
   "cell_type": "code",
   "execution_count": 16,
   "id": "82180cda",
   "metadata": {},
   "outputs": [
    {
     "data": {
      "text/plain": [
       "200    11984\n",
       "499       14\n",
       "Name: status_code, dtype: int64"
      ]
     },
     "execution_count": 16,
     "metadata": {},
     "output_type": "execute_result"
    }
   ],
   "source": [
    "df[df.ip == '97.105.19.58'].status_code.value_counts()"
   ]
  },
  {
   "cell_type": "code",
   "execution_count": 18,
   "id": "6142ed01",
   "metadata": {},
   "outputs": [
    {
     "data": {
      "text/html": [
       "<div>\n",
       "<style scoped>\n",
       "    .dataframe tbody tr th:only-of-type {\n",
       "        vertical-align: middle;\n",
       "    }\n",
       "\n",
       "    .dataframe tbody tr th {\n",
       "        vertical-align: top;\n",
       "    }\n",
       "\n",
       "    .dataframe thead th {\n",
       "        text-align: right;\n",
       "    }\n",
       "</style>\n",
       "<table border=\"1\" class=\"dataframe\">\n",
       "  <thead>\n",
       "    <tr style=\"text-align: right;\">\n",
       "      <th></th>\n",
       "      <th>ip</th>\n",
       "      <th>timestamp</th>\n",
       "      <th>request_method</th>\n",
       "      <th>request_path</th>\n",
       "      <th>http_version</th>\n",
       "      <th>status_code</th>\n",
       "      <th>size</th>\n",
       "      <th>user_agent</th>\n",
       "    </tr>\n",
       "  </thead>\n",
       "  <tbody>\n",
       "    <tr>\n",
       "      <th>1745</th>\n",
       "      <td>97.105.19.58</td>\n",
       "      <td>16/Apr/2019 19:55:15</td>\n",
       "      <td>GET</td>\n",
       "      <td>/api/v1/sales?page=2</td>\n",
       "      <td>HTTP/1.1</td>\n",
       "      <td>499</td>\n",
       "      <td>0</td>\n",
       "      <td>python-requests/2.20.1</td>\n",
       "    </tr>\n",
       "    <tr>\n",
       "      <th>1819</th>\n",
       "      <td>97.105.19.58</td>\n",
       "      <td>16/Apr/2019 19:56:02</td>\n",
       "      <td>GET</td>\n",
       "      <td>/api/v1/sales?page=21</td>\n",
       "      <td>HTTP/1.1</td>\n",
       "      <td>499</td>\n",
       "      <td>0</td>\n",
       "      <td>python-requests/2.20.1</td>\n",
       "    </tr>\n",
       "    <tr>\n",
       "      <th>4242</th>\n",
       "      <td>97.105.19.58</td>\n",
       "      <td>16/Apr/2019 20:28:46</td>\n",
       "      <td>GET</td>\n",
       "      <td>/api/v1/sales?page=2</td>\n",
       "      <td>HTTP/1.1</td>\n",
       "      <td>499</td>\n",
       "      <td>0</td>\n",
       "      <td>python-requests/2.21.0</td>\n",
       "    </tr>\n",
       "    <tr>\n",
       "      <th>4405</th>\n",
       "      <td>97.105.19.58</td>\n",
       "      <td>16/Apr/2019 20:33:24</td>\n",
       "      <td>GET</td>\n",
       "      <td>/api/v1/sales?page=29</td>\n",
       "      <td>HTTP/1.1</td>\n",
       "      <td>499</td>\n",
       "      <td>0</td>\n",
       "      <td>python-requests/2.21.0</td>\n",
       "    </tr>\n",
       "    <tr>\n",
       "      <th>4790</th>\n",
       "      <td>97.105.19.58</td>\n",
       "      <td>16/Apr/2019 20:38:13</td>\n",
       "      <td>GET</td>\n",
       "      <td>/api/v1/items</td>\n",
       "      <td>HTTP/1.1</td>\n",
       "      <td>499</td>\n",
       "      <td>0</td>\n",
       "      <td>python-requests/2.21.0</td>\n",
       "    </tr>\n",
       "    <tr>\n",
       "      <th>4862</th>\n",
       "      <td>97.105.19.58</td>\n",
       "      <td>16/Apr/2019 20:38:55</td>\n",
       "      <td>GET</td>\n",
       "      <td>/api/v1/items</td>\n",
       "      <td>HTTP/1.1</td>\n",
       "      <td>499</td>\n",
       "      <td>0</td>\n",
       "      <td>python-requests/2.21.0</td>\n",
       "    </tr>\n",
       "    <tr>\n",
       "      <th>4871</th>\n",
       "      <td>97.105.19.58</td>\n",
       "      <td>16/Apr/2019 20:39:00</td>\n",
       "      <td>GET</td>\n",
       "      <td>/api/v1/items</td>\n",
       "      <td>HTTP/1.1</td>\n",
       "      <td>499</td>\n",
       "      <td>0</td>\n",
       "      <td>python-requests/2.21.0</td>\n",
       "    </tr>\n",
       "    <tr>\n",
       "      <th>5520</th>\n",
       "      <td>97.105.19.58</td>\n",
       "      <td>16/Apr/2019 20:45:17</td>\n",
       "      <td>GET</td>\n",
       "      <td>/api/v1/items</td>\n",
       "      <td>HTTP/1.1</td>\n",
       "      <td>499</td>\n",
       "      <td>0</td>\n",
       "      <td>python-requests/2.21.0</td>\n",
       "    </tr>\n",
       "    <tr>\n",
       "      <th>5539</th>\n",
       "      <td>97.105.19.58</td>\n",
       "      <td>16/Apr/2019 20:45:28</td>\n",
       "      <td>GET</td>\n",
       "      <td>/api/v1/sales?page=2</td>\n",
       "      <td>HTTP/1.1</td>\n",
       "      <td>499</td>\n",
       "      <td>0</td>\n",
       "      <td>python-requests/2.21.0</td>\n",
       "    </tr>\n",
       "    <tr>\n",
       "      <th>6860</th>\n",
       "      <td>97.105.19.58</td>\n",
       "      <td>16/Apr/2019 21:00:35</td>\n",
       "      <td>GET</td>\n",
       "      <td>/api/v1/sales?page=115</td>\n",
       "      <td>HTTP/1.1</td>\n",
       "      <td>499</td>\n",
       "      <td>0</td>\n",
       "      <td>python-requests/2.20.1</td>\n",
       "    </tr>\n",
       "    <tr>\n",
       "      <th>6934</th>\n",
       "      <td>97.105.19.58</td>\n",
       "      <td>16/Apr/2019 21:02:07</td>\n",
       "      <td>GET</td>\n",
       "      <td>/api/v1/sales?page=47</td>\n",
       "      <td>HTTP/1.1</td>\n",
       "      <td>499</td>\n",
       "      <td>0</td>\n",
       "      <td>python-requests/2.20.1</td>\n",
       "    </tr>\n",
       "    <tr>\n",
       "      <th>8267</th>\n",
       "      <td>97.105.19.58</td>\n",
       "      <td>16/Apr/2019 21:30:46</td>\n",
       "      <td>GET</td>\n",
       "      <td>/api/v1/sales?page=25</td>\n",
       "      <td>HTTP/1.1</td>\n",
       "      <td>499</td>\n",
       "      <td>0</td>\n",
       "      <td>python-requests/2.21.0</td>\n",
       "    </tr>\n",
       "    <tr>\n",
       "      <th>8866</th>\n",
       "      <td>97.105.19.58</td>\n",
       "      <td>16/Apr/2019 21:39:21</td>\n",
       "      <td>GET</td>\n",
       "      <td>/api/v1/sales?page=80</td>\n",
       "      <td>HTTP/1.1</td>\n",
       "      <td>499</td>\n",
       "      <td>0</td>\n",
       "      <td>python-requests/2.21.0</td>\n",
       "    </tr>\n",
       "    <tr>\n",
       "      <th>10838</th>\n",
       "      <td>97.105.19.58</td>\n",
       "      <td>16/Apr/2019 22:21:38</td>\n",
       "      <td>GET</td>\n",
       "      <td>/api/v1/sales?page=69</td>\n",
       "      <td>HTTP/1.1</td>\n",
       "      <td>499</td>\n",
       "      <td>0</td>\n",
       "      <td>python-requests/2.21.0</td>\n",
       "    </tr>\n",
       "  </tbody>\n",
       "</table>\n",
       "</div>"
      ],
      "text/plain": [
       "                 ip             timestamp request_method  \\\n",
       "1745   97.105.19.58  16/Apr/2019 19:55:15            GET   \n",
       "1819   97.105.19.58  16/Apr/2019 19:56:02            GET   \n",
       "4242   97.105.19.58  16/Apr/2019 20:28:46            GET   \n",
       "4405   97.105.19.58  16/Apr/2019 20:33:24            GET   \n",
       "4790   97.105.19.58  16/Apr/2019 20:38:13            GET   \n",
       "4862   97.105.19.58  16/Apr/2019 20:38:55            GET   \n",
       "4871   97.105.19.58  16/Apr/2019 20:39:00            GET   \n",
       "5520   97.105.19.58  16/Apr/2019 20:45:17            GET   \n",
       "5539   97.105.19.58  16/Apr/2019 20:45:28            GET   \n",
       "6860   97.105.19.58  16/Apr/2019 21:00:35            GET   \n",
       "6934   97.105.19.58  16/Apr/2019 21:02:07            GET   \n",
       "8267   97.105.19.58  16/Apr/2019 21:30:46            GET   \n",
       "8866   97.105.19.58  16/Apr/2019 21:39:21            GET   \n",
       "10838  97.105.19.58  16/Apr/2019 22:21:38            GET   \n",
       "\n",
       "                 request_path http_version status_code  size  \\\n",
       "1745     /api/v1/sales?page=2     HTTP/1.1         499     0   \n",
       "1819    /api/v1/sales?page=21     HTTP/1.1         499     0   \n",
       "4242     /api/v1/sales?page=2     HTTP/1.1         499     0   \n",
       "4405    /api/v1/sales?page=29     HTTP/1.1         499     0   \n",
       "4790            /api/v1/items     HTTP/1.1         499     0   \n",
       "4862            /api/v1/items     HTTP/1.1         499     0   \n",
       "4871            /api/v1/items     HTTP/1.1         499     0   \n",
       "5520            /api/v1/items     HTTP/1.1         499     0   \n",
       "5539     /api/v1/sales?page=2     HTTP/1.1         499     0   \n",
       "6860   /api/v1/sales?page=115     HTTP/1.1         499     0   \n",
       "6934    /api/v1/sales?page=47     HTTP/1.1         499     0   \n",
       "8267    /api/v1/sales?page=25     HTTP/1.1         499     0   \n",
       "8866    /api/v1/sales?page=80     HTTP/1.1         499     0   \n",
       "10838   /api/v1/sales?page=69     HTTP/1.1         499     0   \n",
       "\n",
       "                   user_agent  \n",
       "1745   python-requests/2.20.1  \n",
       "1819   python-requests/2.20.1  \n",
       "4242   python-requests/2.21.0  \n",
       "4405   python-requests/2.21.0  \n",
       "4790   python-requests/2.21.0  \n",
       "4862   python-requests/2.21.0  \n",
       "4871   python-requests/2.21.0  \n",
       "5520   python-requests/2.21.0  \n",
       "5539   python-requests/2.21.0  \n",
       "6860   python-requests/2.20.1  \n",
       "6934   python-requests/2.20.1  \n",
       "8267   python-requests/2.21.0  \n",
       "8866   python-requests/2.21.0  \n",
       "10838  python-requests/2.21.0  "
      ]
     },
     "execution_count": 18,
     "metadata": {},
     "output_type": "execute_result"
    }
   ],
   "source": [
    "df[(df.ip == '97.105.19.58') & (df.status_code == '499')]"
   ]
  },
  {
   "cell_type": "markdown",
   "id": "53092553",
   "metadata": {},
   "source": [
    "All his 499 errors come from a single 1.5 hour timespan"
   ]
  },
  {
   "cell_type": "code",
   "execution_count": 20,
   "id": "7987bb0e",
   "metadata": {},
   "outputs": [
    {
     "data": {
      "text/plain": [
       "/api/v1/sales?page=2    698\n",
       "/api/v1/items           342\n",
       "/api/v1/items?page=2    179\n",
       "/api/v1/sales           135\n",
       "/api/v1/items?page=3    121\n",
       "/api/v1/stores          100\n",
       "/                        95\n",
       "/documentation           93\n",
       "/api/v1/sales?page=3     81\n",
       "/api/v1/sales?page=4     73\n",
       "Name: request_path, dtype: int64"
      ]
     },
     "execution_count": 20,
     "metadata": {},
     "output_type": "execute_result"
    }
   ],
   "source": [
    "df[df.ip == '97.105.19.58'].request_path.value_counts().head(10)"
   ]
  },
  {
   "cell_type": "markdown",
   "id": "1cdf20e9",
   "metadata": {},
   "source": [
    "This ip address accessed the /api/v1/sales?page=2 the more than double the next most commonly accessed page."
   ]
  },
  {
   "cell_type": "code",
   "execution_count": 82,
   "id": "e69551a9",
   "metadata": {},
   "outputs": [
    {
     "data": {
      "text/plain": [
       "<AxesSubplot:ylabel='Frequency'>"
      ]
     },
     "execution_count": 82,
     "metadata": {},
     "output_type": "execute_result"
    },
    {
     "data": {
      "image/png": "[encoded data removed]",
      "text/plain": [
       "<Figure size 432x288 with 1 Axes>"
      ]
     },
     "metadata": {
      "needs_background": "light"
     },
     "output_type": "display_data"
    }
   ],
   "source": [
    "df[df.ip == '97.105.19.58']['size'].plot(kind = 'hist')"
   ]
  },
  {
   "cell_type": "markdown",
   "id": "5af9801c",
   "metadata": {},
   "source": [
    "The majority of the GET requests pulled about half a megabyte of data each time."
   ]
  },
  {
   "cell_type": "markdown",
   "id": "be89bcae",
   "metadata": {},
   "source": [
    "**Looking at the second most common ip address: 173.173.113.51**"
   ]
  },
  {
   "cell_type": "code",
   "execution_count": 29,
   "id": "5ca1d409",
   "metadata": {
    "scrolled": true
   },
   "outputs": [
    {
     "data": {
      "text/plain": [
       "python-requests/2.21.0    1059\n",
       "Name: user_agent, dtype: int64"
      ]
     },
     "execution_count": 29,
     "metadata": {},
     "output_type": "execute_result"
    }
   ],
   "source": [
    "df[df.ip == '173.173.113.51'].user_agent.value_counts()"
   ]
  },
  {
   "cell_type": "code",
   "execution_count": 30,
   "id": "8739e275",
   "metadata": {},
   "outputs": [
    {
     "data": {
      "text/plain": [
       "200    1059\n",
       "Name: status_code, dtype: int64"
      ]
     },
     "execution_count": 30,
     "metadata": {},
     "output_type": "execute_result"
    }
   ],
   "source": [
    "df[df.ip == '173.173.113.51'].status_code.value_counts()"
   ]
  },
  {
   "cell_type": "markdown",
   "id": "46660e7a",
   "metadata": {},
   "source": [
    "Nothing weird so far "
   ]
  },
  {
   "cell_type": "code",
   "execution_count": 31,
   "id": "137f2805",
   "metadata": {},
   "outputs": [
    {
     "data": {
      "text/plain": [
       "/api/v1/items            64\n",
       "/api/v1/items?page=2     62\n",
       "/api/v1/items?page=3     62\n",
       "/api/v1/stores           54\n",
       "/api/v1/sales             8\n",
       "/api/v1/sales?page=27     5\n",
       "/api/v1/sales?page=7      5\n",
       "/api/v1/sales?page=73     5\n",
       "/api/v1/sales?page=44     5\n",
       "/api/v1/sales?page=21     5\n",
       "Name: request_path, dtype: int64"
      ]
     },
     "execution_count": 31,
     "metadata": {},
     "output_type": "execute_result"
    }
   ],
   "source": [
    "df[df.ip == '173.173.113.51'].request_path.value_counts().head(10)"
   ]
  },
  {
   "cell_type": "code",
   "execution_count": 32,
   "id": "1ae69679",
   "metadata": {},
   "outputs": [
    {
     "data": {
      "text/plain": [
       "<AxesSubplot:ylabel='Frequency'>"
      ]
     },
     "execution_count": 32,
     "metadata": {},
     "output_type": "execute_result"
    },
    {
     "data": {
      "image/png": "[encoded data removed]",
      "text/plain": [
       "<Figure size 432x288 with 1 Axes>"
      ]
     },
     "metadata": {
      "needs_background": "light"
     },
     "output_type": "display_data"
    }
   ],
   "source": [
    "df[df.ip == '173.173.113.51']['size'].plot(kind = 'hist')"
   ]
  },
  {
   "cell_type": "markdown",
   "id": "cda3f819",
   "metadata": {},
   "source": [
    "Like we saw above the majority of requests pulled about half a megabyte of data."
   ]
  },
  {
   "cell_type": "markdown",
   "id": "1f594c1e",
   "metadata": {},
   "source": [
    "## Exploring anomalies in the timestamp column"
   ]
  },
  {
   "cell_type": "code",
   "execution_count": 42,
   "id": "415de72c",
   "metadata": {},
   "outputs": [
    {
     "name": "stdout",
     "output_type": "stream",
     "text": [
      "<class 'pandas.core.frame.DataFrame'>\n",
      "RangeIndex: 13974 entries, 0 to 13973\n",
      "Data columns (total 8 columns):\n",
      " #   Column          Non-Null Count  Dtype         \n",
      "---  ------          --------------  -----         \n",
      " 0   ip              13974 non-null  object        \n",
      " 1   timestamp       13974 non-null  datetime64[ns]\n",
      " 2   request_method  13974 non-null  object        \n",
      " 3   request_path    13974 non-null  object        \n",
      " 4   http_version    13974 non-null  object        \n",
      " 5   status_code     13974 non-null  object        \n",
      " 6   size            13974 non-null  int64         \n",
      " 7   user_agent      13974 non-null  object        \n",
      "dtypes: datetime64[ns](1), int64(1), object(6)\n",
      "memory usage: 873.5+ KB\n"
     ]
    }
   ],
   "source": [
    "df.info()"
   ]
  },
  {
   "cell_type": "code",
   "execution_count": 119,
   "id": "a4b87a38",
   "metadata": {},
   "outputs": [
    {
     "data": {
      "text/plain": [
       "<AxesSubplot:xlabel='timestamp', ylabel='Count'>"
      ]
     },
     "execution_count": 119,
     "metadata": {},
     "output_type": "execute_result"
    },
    {
     "data": {
      "image/png": "[encoded data removed]",
      "text/plain": [
       "<Figure size 1152x576 with 1 Axes>"
      ]
     },
     "metadata": {
      "needs_background": "light"
     },
     "output_type": "display_data"
    }
   ],
   "source": [
    "plt.figure(figsize=(16,8))\n",
    "sns.histplot(data = df, x = df.index, bins = 16)"
   ]
  },
  {
   "cell_type": "markdown",
   "id": "5fae9a23",
   "metadata": {},
   "source": [
    "Checking the range of the times"
   ]
  },
  {
   "cell_type": "code",
   "execution_count": 122,
   "id": "1e7d84e7",
   "metadata": {},
   "outputs": [
    {
     "data": {
      "text/plain": [
       "(Timestamp('2019-04-16 19:34:42'), Timestamp('2019-04-17 12:55:14'))"
      ]
     },
     "execution_count": 122,
     "metadata": {},
     "output_type": "execute_result"
    }
   ],
   "source": [
    "df.index.min(), df.index.max()"
   ]
  },
  {
   "cell_type": "markdown",
   "id": "c95d3ddd",
   "metadata": {},
   "source": [
    "The times of the logs span roughly 15.5 hours"
   ]
  },
  {
   "cell_type": "markdown",
   "id": "511a0fcb",
   "metadata": {},
   "source": [
    "Will now look logs between midnight and 6 AM"
   ]
  },
  {
   "cell_type": "code",
   "execution_count": 54,
   "id": "8b8503bc",
   "metadata": {},
   "outputs": [
    {
     "data": {
      "text/html": [
       "<div>\n",
       "<style scoped>\n",
       "    .dataframe tbody tr th:only-of-type {\n",
       "        vertical-align: middle;\n",
       "    }\n",
       "\n",
       "    .dataframe tbody tr th {\n",
       "        vertical-align: top;\n",
       "    }\n",
       "\n",
       "    .dataframe thead th {\n",
       "        text-align: right;\n",
       "    }\n",
       "</style>\n",
       "<table border=\"1\" class=\"dataframe\">\n",
       "  <thead>\n",
       "    <tr style=\"text-align: right;\">\n",
       "      <th></th>\n",
       "      <th>ip</th>\n",
       "      <th>timestamp</th>\n",
       "      <th>request_method</th>\n",
       "      <th>request_path</th>\n",
       "      <th>http_version</th>\n",
       "      <th>status_code</th>\n",
       "      <th>size</th>\n",
       "      <th>user_agent</th>\n",
       "    </tr>\n",
       "  </thead>\n",
       "  <tbody>\n",
       "    <tr>\n",
       "      <th>11947</th>\n",
       "      <td>72.181.105.81</td>\n",
       "      <td>2019-04-17 00:34:50</td>\n",
       "      <td>GET</td>\n",
       "      <td>/</td>\n",
       "      <td>HTTP/1.1</td>\n",
       "      <td>200</td>\n",
       "      <td>42</td>\n",
       "      <td>python-requests/2.21.0</td>\n",
       "    </tr>\n",
       "    <tr>\n",
       "      <th>11948</th>\n",
       "      <td>72.181.105.81</td>\n",
       "      <td>2019-04-17 00:36:58</td>\n",
       "      <td>GET</td>\n",
       "      <td>/documentation</td>\n",
       "      <td>HTTP/1.1</td>\n",
       "      <td>200</td>\n",
       "      <td>348</td>\n",
       "      <td>python-requests/2.21.0</td>\n",
       "    </tr>\n",
       "    <tr>\n",
       "      <th>11949</th>\n",
       "      <td>72.181.105.81</td>\n",
       "      <td>2019-04-17 00:40:07</td>\n",
       "      <td>GET</td>\n",
       "      <td>/api/v1/items</td>\n",
       "      <td>HTTP/1.1</td>\n",
       "      <td>200</td>\n",
       "      <td>3561</td>\n",
       "      <td>python-requests/2.21.0</td>\n",
       "    </tr>\n",
       "    <tr>\n",
       "      <th>11950</th>\n",
       "      <td>72.181.105.81</td>\n",
       "      <td>2019-04-17 00:44:47</td>\n",
       "      <td>GET</td>\n",
       "      <td>/api/v1/items?page=2</td>\n",
       "      <td>HTTP/1.1</td>\n",
       "      <td>200</td>\n",
       "      <td>3659</td>\n",
       "      <td>python-requests/2.21.0</td>\n",
       "    </tr>\n",
       "    <tr>\n",
       "      <th>11951</th>\n",
       "      <td>72.181.105.81</td>\n",
       "      <td>2019-04-17 00:45:19</td>\n",
       "      <td>GET</td>\n",
       "      <td>/api/v1/items?page=3</td>\n",
       "      <td>HTTP/1.1</td>\n",
       "      <td>200</td>\n",
       "      <td>1787</td>\n",
       "      <td>python-requests/2.21.0</td>\n",
       "    </tr>\n",
       "    <tr>\n",
       "      <th>...</th>\n",
       "      <td>...</td>\n",
       "      <td>...</td>\n",
       "      <td>...</td>\n",
       "      <td>...</td>\n",
       "      <td>...</td>\n",
       "      <td>...</td>\n",
       "      <td>...</td>\n",
       "      <td>...</td>\n",
       "    </tr>\n",
       "    <tr>\n",
       "      <th>13883</th>\n",
       "      <td>24.26.242.9</td>\n",
       "      <td>2019-04-17 05:50:21</td>\n",
       "      <td>GET</td>\n",
       "      <td>/api/v1/stores?page=1</td>\n",
       "      <td>HTTP/1.1</td>\n",
       "      <td>200</td>\n",
       "      <td>1328</td>\n",
       "      <td>python-requests/2.21.0</td>\n",
       "    </tr>\n",
       "    <tr>\n",
       "      <th>13884</th>\n",
       "      <td>24.26.242.9</td>\n",
       "      <td>2019-04-17 05:50:22</td>\n",
       "      <td>GET</td>\n",
       "      <td>/api/v1/sales?page=1</td>\n",
       "      <td>HTTP/1.1</td>\n",
       "      <td>200</td>\n",
       "      <td>493905</td>\n",
       "      <td>python-requests/2.21.0</td>\n",
       "    </tr>\n",
       "    <tr>\n",
       "      <th>13885</th>\n",
       "      <td>24.26.242.9</td>\n",
       "      <td>2019-04-17 05:53:32</td>\n",
       "      <td>GET</td>\n",
       "      <td>/api/v1/items?page=1</td>\n",
       "      <td>HTTP/1.1</td>\n",
       "      <td>200</td>\n",
       "      <td>3561</td>\n",
       "      <td>python-requests/2.21.0</td>\n",
       "    </tr>\n",
       "    <tr>\n",
       "      <th>13886</th>\n",
       "      <td>24.26.242.9</td>\n",
       "      <td>2019-04-17 05:53:32</td>\n",
       "      <td>GET</td>\n",
       "      <td>/api/v1/stores?page=1</td>\n",
       "      <td>HTTP/1.1</td>\n",
       "      <td>200</td>\n",
       "      <td>1328</td>\n",
       "      <td>python-requests/2.21.0</td>\n",
       "    </tr>\n",
       "    <tr>\n",
       "      <th>13887</th>\n",
       "      <td>24.26.242.9</td>\n",
       "      <td>2019-04-17 05:53:33</td>\n",
       "      <td>GET</td>\n",
       "      <td>/api/v1/sales?page=1</td>\n",
       "      <td>HTTP/1.1</td>\n",
       "      <td>200</td>\n",
       "      <td>493905</td>\n",
       "      <td>python-requests/2.21.0</td>\n",
       "    </tr>\n",
       "  </tbody>\n",
       "</table>\n",
       "<p>1941 rows × 8 columns</p>\n",
       "</div>"
      ],
      "text/plain": [
       "                  ip           timestamp request_method  \\\n",
       "11947  72.181.105.81 2019-04-17 00:34:50            GET   \n",
       "11948  72.181.105.81 2019-04-17 00:36:58            GET   \n",
       "11949  72.181.105.81 2019-04-17 00:40:07            GET   \n",
       "11950  72.181.105.81 2019-04-17 00:44:47            GET   \n",
       "11951  72.181.105.81 2019-04-17 00:45:19            GET   \n",
       "...              ...                 ...            ...   \n",
       "13883    24.26.242.9 2019-04-17 05:50:21            GET   \n",
       "13884    24.26.242.9 2019-04-17 05:50:22            GET   \n",
       "13885    24.26.242.9 2019-04-17 05:53:32            GET   \n",
       "13886    24.26.242.9 2019-04-17 05:53:32            GET   \n",
       "13887    24.26.242.9 2019-04-17 05:53:33            GET   \n",
       "\n",
       "                request_path http_version status_code    size  \\\n",
       "11947                      /     HTTP/1.1         200      42   \n",
       "11948         /documentation     HTTP/1.1         200     348   \n",
       "11949          /api/v1/items     HTTP/1.1         200    3561   \n",
       "11950   /api/v1/items?page=2     HTTP/1.1         200    3659   \n",
       "11951   /api/v1/items?page=3     HTTP/1.1         200    1787   \n",
       "...                      ...          ...         ...     ...   \n",
       "13883  /api/v1/stores?page=1     HTTP/1.1         200    1328   \n",
       "13884   /api/v1/sales?page=1     HTTP/1.1         200  493905   \n",
       "13885   /api/v1/items?page=1     HTTP/1.1         200    3561   \n",
       "13886  /api/v1/stores?page=1     HTTP/1.1         200    1328   \n",
       "13887   /api/v1/sales?page=1     HTTP/1.1         200  493905   \n",
       "\n",
       "                   user_agent  \n",
       "11947  python-requests/2.21.0  \n",
       "11948  python-requests/2.21.0  \n",
       "11949  python-requests/2.21.0  \n",
       "11950  python-requests/2.21.0  \n",
       "11951  python-requests/2.21.0  \n",
       "...                       ...  \n",
       "13883  python-requests/2.21.0  \n",
       "13884  python-requests/2.21.0  \n",
       "13885  python-requests/2.21.0  \n",
       "13886  python-requests/2.21.0  \n",
       "13887  python-requests/2.21.0  \n",
       "\n",
       "[1941 rows x 8 columns]"
      ]
     },
     "execution_count": 54,
     "metadata": {},
     "output_type": "execute_result"
    }
   ],
   "source": [
    "df[(df.index > '2019-04-17 00:00:00') & (df.index < '2019-04-17 06:00:00')]"
   ]
  },
  {
   "cell_type": "code",
   "execution_count": 125,
   "id": "73d740b6",
   "metadata": {},
   "outputs": [
    {
     "data": {
      "text/plain": [
       "0.13890081580077288"
      ]
     },
     "execution_count": 125,
     "metadata": {},
     "output_type": "execute_result"
    }
   ],
   "source": [
    "df[(df.index > '2019-04-17 00:00:00') & (df.index < '2019-04-17 06:00:00')].shape[0] / df.shape[0]"
   ]
  },
  {
   "cell_type": "markdown",
   "id": "bb9b0bf7",
   "metadata": {},
   "source": [
    "The logs occurring between midnight and 6 AM account for roughly 10% of all logs. I want to see who is most responsible for these logs. Above I had one ip address that accounted for 86% of all logs, so I hypothesize this same ip address will account for most of the requests betwen midnight and 6 AM."
   ]
  },
  {
   "cell_type": "code",
   "execution_count": 123,
   "id": "7a5945d4",
   "metadata": {},
   "outputs": [
    {
     "data": {
      "text/plain": [
       "173.173.113.51    1059\n",
       "72.181.113.170     613\n",
       "72.181.105.81      238\n",
       "68.201.219.223      21\n",
       "24.26.242.9          6\n",
       "70.121.214.34        2\n",
       "52.91.30.150         1\n",
       "52.87.230.102        1\n",
       "Name: ip, dtype: int64"
      ]
     },
     "execution_count": 123,
     "metadata": {},
     "output_type": "execute_result"
    }
   ],
   "source": [
    "df[(df.index > '2019-04-17 00:00:00') & (df.index < '2019-04-17 06:00:00')].ip.value_counts()"
   ]
  },
  {
   "cell_type": "markdown",
   "id": "37dd2a87",
   "metadata": {},
   "source": [
    "I was wrong, and the predicted ip didn't appear at all. I want to investigate that ip's time usage now."
   ]
  },
  {
   "cell_type": "code",
   "execution_count": 126,
   "id": "8217e49a",
   "metadata": {},
   "outputs": [
    {
     "data": {
      "text/plain": [
       "Timestamp('2019-04-16 22:59:40')"
      ]
     },
     "execution_count": 126,
     "metadata": {},
     "output_type": "execute_result"
    }
   ],
   "source": [
    "df[(df.index < '2019-04-17 00:00:00') & (df.ip == '97.105.19.58')].index.max()"
   ]
  },
  {
   "cell_type": "markdown",
   "id": "930823e0",
   "metadata": {},
   "source": [
    "The lastest log comes at roughly 11 PM."
   ]
  },
  {
   "cell_type": "code",
   "execution_count": 127,
   "id": "56a6092a",
   "metadata": {},
   "outputs": [
    {
     "data": {
      "text/plain": [
       "Timestamp('2019-04-17 12:54:06')"
      ]
     },
     "execution_count": 127,
     "metadata": {},
     "output_type": "execute_result"
    }
   ],
   "source": [
    "df[(df.index > '2019-04-17 06:00:00') & (df.ip == '97.105.19.58')].index.min()"
   ]
  },
  {
   "cell_type": "markdown",
   "id": "ce5467b1",
   "metadata": {},
   "source": [
    "The earliest log comes at roughly 1 PM."
   ]
  },
  {
   "cell_type": "markdown",
   "id": "35abb8c5",
   "metadata": {},
   "source": [
    "## Exploring anomalies in the request_method column"
   ]
  },
  {
   "cell_type": "code",
   "execution_count": 71,
   "id": "4c49e743",
   "metadata": {},
   "outputs": [
    {
     "data": {
      "text/plain": [
       "GET    13974\n",
       "Name: request_method, dtype: int64"
      ]
     },
     "execution_count": 71,
     "metadata": {},
     "output_type": "execute_result"
    }
   ],
   "source": [
    "df.request_method.value_counts()"
   ]
  },
  {
   "cell_type": "markdown",
   "id": "14025655",
   "metadata": {},
   "source": [
    "All requests are GET requests."
   ]
  },
  {
   "cell_type": "markdown",
   "id": "db80d7a3",
   "metadata": {},
   "source": [
    "## Exploring anomalies in the request_path column"
   ]
  },
  {
   "cell_type": "code",
   "execution_count": 130,
   "id": "3bce94e0",
   "metadata": {},
   "outputs": [
    {
     "data": {
      "text/plain": [
       "/api/v1/sales?page=2    709\n",
       "/api/v1/items           464\n",
       "/api/v1/items?page=2    291\n",
       "/api/v1/items?page=3    219\n",
       "/api/v1/stores          162\n",
       "/api/v1/sales           152\n",
       "/                       107\n",
       "/documentation          100\n",
       "/api/v1/sales?page=3     91\n",
       "/api/v1/items?page=1     88\n",
       "Name: request_path, dtype: int64"
      ]
     },
     "execution_count": 130,
     "metadata": {},
     "output_type": "execute_result"
    }
   ],
   "source": [
    "df.request_path.value_counts().head(10)"
   ]
  },
  {
   "cell_type": "markdown",
   "id": "0237b94c",
   "metadata": {},
   "source": [
    "The single largest amount of requests happen on sales?page=2 "
   ]
  },
  {
   "cell_type": "markdown",
   "id": "baaf0f21",
   "metadata": {},
   "source": [
    "## Exploring anomalies in the http_version column"
   ]
  },
  {
   "cell_type": "code",
   "execution_count": 131,
   "id": "ce6b2383",
   "metadata": {},
   "outputs": [
    {
     "data": {
      "text/plain": [
       "HTTP/1.1    13974\n",
       "Name: http_version, dtype: int64"
      ]
     },
     "execution_count": 131,
     "metadata": {},
     "output_type": "execute_result"
    }
   ],
   "source": [
    "df.http_version.value_counts()"
   ]
  },
  {
   "cell_type": "markdown",
   "id": "376c169f",
   "metadata": {},
   "source": [
    "No anomalies"
   ]
  },
  {
   "cell_type": "markdown",
   "id": "6603372e",
   "metadata": {},
   "source": [
    "## Exploring anomalies in the status_code column"
   ]
  },
  {
   "cell_type": "code",
   "execution_count": 132,
   "id": "585e9f6b",
   "metadata": {},
   "outputs": [
    {
     "data": {
      "text/plain": [
       "200    13958\n",
       "499       16\n",
       "Name: status_code, dtype: int64"
      ]
     },
     "execution_count": 132,
     "metadata": {},
     "output_type": "execute_result"
    }
   ],
   "source": [
    "df.status_code.value_counts()"
   ]
  },
  {
   "cell_type": "markdown",
   "id": "2653dafd",
   "metadata": {},
   "source": [
    "There are 16 requests that result in a 499"
   ]
  },
  {
   "cell_type": "markdown",
   "id": "b43abb7f",
   "metadata": {},
   "source": [
    "## Exploring anomalies in the size column"
   ]
  },
  {
   "cell_type": "code",
   "execution_count": 134,
   "id": "540c96cc",
   "metadata": {},
   "outputs": [
    {
     "data": {
      "text/plain": [
       "<AxesSubplot:ylabel='Frequency'>"
      ]
     },
     "execution_count": 134,
     "metadata": {},
     "output_type": "execute_result"
    },
    {
     "data": {
      "image/png": "[encoded data removed]",
      "text/plain": [
       "<Figure size 432x288 with 1 Axes>"
      ]
     },
     "metadata": {
      "needs_background": "light"
     },
     "output_type": "display_data"
    }
   ],
   "source": [
    "df['size'].plot(kind = 'hist')"
   ]
  },
  {
   "cell_type": "markdown",
   "id": "327e1ded",
   "metadata": {},
   "source": [
    "Nothing major, just two main groups of data size"
   ]
  }
 ],
 "metadata": {
  "kernelspec": {
   "display_name": "Python 3 (ipykernel)",
   "language": "python",
   "name": "python3"
  },
  "language_info": {
   "codemirror_mode": {
    "name": "ipython",
    "version": 3
   },
   "file_extension": ".py",
   "mimetype": "text/x-python",
   "name": "python",
   "nbconvert_exporter": "python",
   "pygments_lexer": "ipython3",
   "version": "3.9.7"
  }
 },
 "nbformat": 4,
 "nbformat_minor": 5
}
